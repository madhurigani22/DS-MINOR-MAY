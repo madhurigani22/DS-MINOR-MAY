{
  "nbformat": 4,
  "nbformat_minor": 0,
  "metadata": {
    "colab": {
      "name": "DS-MINOR-MAY.ipynb",
      "provenance": [],
      "collapsed_sections": [],
      "authorship_tag": "ABX9TyPaTjvcNSBxIYPaz7rscLxG",
      "include_colab_link": true
    },
    "kernelspec": {
      "name": "python3",
      "display_name": "Python 3"
    },
    "language_info": {
      "name": "python"
    }
  },
  "cells": [
    {
      "cell_type": "markdown",
      "metadata": {
        "id": "view-in-github",
        "colab_type": "text"
      },
      "source": [
        "<a href=\"https://colab.research.google.com/github/madhurigani22/DS-MINOR-MAY/blob/main/DS_MINOR_MAY.ipynb\" target=\"_parent\"><img src=\"https://colab.research.google.com/assets/colab-badge.svg\" alt=\"Open In Colab\"/></a>"
      ]
    },
    {
      "cell_type": "code",
      "metadata": {
        "colab": {
          "base_uri": "https://localhost:8080/"
        },
        "id": "G95OQchpvrxy",
        "outputId": "b0bc283c-2552-458a-f6f7-5ba244ae0ada"
      },
      "source": [
        "!pip install ipython-autotime\n",
        "%load_ext autotime"
      ],
      "execution_count": 1,
      "outputs": [
        {
          "output_type": "stream",
          "text": [
            "Collecting ipython-autotime\n",
            "  Downloading https://files.pythonhosted.org/packages/b4/c9/b413a24f759641bc27ef98c144b590023c8038dfb8a3f09e713e9dff12c1/ipython_autotime-0.3.1-py2.py3-none-any.whl\n",
            "Requirement already satisfied: ipython in /usr/local/lib/python3.7/dist-packages (from ipython-autotime) (5.5.0)\n",
            "Requirement already satisfied: pickleshare in /usr/local/lib/python3.7/dist-packages (from ipython->ipython-autotime) (0.7.5)\n",
            "Requirement already satisfied: prompt-toolkit<2.0.0,>=1.0.4 in /usr/local/lib/python3.7/dist-packages (from ipython->ipython-autotime) (1.0.18)\n",
            "Requirement already satisfied: pexpect; sys_platform != \"win32\" in /usr/local/lib/python3.7/dist-packages (from ipython->ipython-autotime) (4.8.0)\n",
            "Requirement already satisfied: pygments in /usr/local/lib/python3.7/dist-packages (from ipython->ipython-autotime) (2.6.1)\n",
            "Requirement already satisfied: decorator in /usr/local/lib/python3.7/dist-packages (from ipython->ipython-autotime) (4.4.2)\n",
            "Requirement already satisfied: setuptools>=18.5 in /usr/local/lib/python3.7/dist-packages (from ipython->ipython-autotime) (57.0.0)\n",
            "Requirement already satisfied: simplegeneric>0.8 in /usr/local/lib/python3.7/dist-packages (from ipython->ipython-autotime) (0.8.1)\n",
            "Requirement already satisfied: traitlets>=4.2 in /usr/local/lib/python3.7/dist-packages (from ipython->ipython-autotime) (5.0.5)\n",
            "Requirement already satisfied: six>=1.9.0 in /usr/local/lib/python3.7/dist-packages (from prompt-toolkit<2.0.0,>=1.0.4->ipython->ipython-autotime) (1.15.0)\n",
            "Requirement already satisfied: wcwidth in /usr/local/lib/python3.7/dist-packages (from prompt-toolkit<2.0.0,>=1.0.4->ipython->ipython-autotime) (0.2.5)\n",
            "Requirement already satisfied: ptyprocess>=0.5 in /usr/local/lib/python3.7/dist-packages (from pexpect; sys_platform != \"win32\"->ipython->ipython-autotime) (0.7.0)\n",
            "Requirement already satisfied: ipython-genutils in /usr/local/lib/python3.7/dist-packages (from traitlets>=4.2->ipython->ipython-autotime) (0.2.0)\n",
            "Installing collected packages: ipython-autotime\n",
            "Successfully installed ipython-autotime-0.3.1\n",
            "time: 1.53 ms (started: 2021-06-16 14:51:02 +00:00)\n"
          ],
          "name": "stdout"
        }
      ]
    },
    {
      "cell_type": "code",
      "metadata": {
        "id": "EVsdZtNKNUP_",
        "colab": {
          "base_uri": "https://localhost:8080/"
        },
        "outputId": "9865776f-480f-42c6-b083-35a8ff51b235"
      },
      "source": [
        "!pip install bing-image-downloader\n"
      ],
      "execution_count": 2,
      "outputs": [
        {
          "output_type": "stream",
          "text": [
            "Collecting bing-image-downloader\n",
            "  Downloading https://files.pythonhosted.org/packages/2c/f9/e827c690d0df1ec2f2f27cf0fb3d1f944c5c56253f8d3750ccaff051b3d3/bing_image_downloader-1.1.0-py3-none-any.whl\n",
            "Installing collected packages: bing-image-downloader\n",
            "Successfully installed bing-image-downloader-1.1.0\n",
            "time: 2.63 s (started: 2021-06-16 14:51:02 +00:00)\n"
          ],
          "name": "stdout"
        }
      ]
    },
    {
      "cell_type": "code",
      "metadata": {
        "id": "GrEXnniPAAMV",
        "colab": {
          "base_uri": "https://localhost:8080/"
        },
        "outputId": "8dce164e-f4b3-4700-f811-104399612152"
      },
      "source": [
        "!mkdir images"
      ],
      "execution_count": 3,
      "outputs": [
        {
          "output_type": "stream",
          "text": [
            "time: 116 ms (started: 2021-06-16 14:51:08 +00:00)\n"
          ],
          "name": "stdout"
        }
      ]
    },
    {
      "cell_type": "code",
      "metadata": {
        "colab": {
          "base_uri": "https://localhost:8080/"
        },
        "id": "2BUUrR7PAavL",
        "outputId": "a3e7f7e4-dc25-4978-8ec2-acaee46efd09"
      },
      "source": [
        "from bing_image_downloader import downloader \n",
        "downloader.download(\"pretty lilly\",limit =30,output_dir='images',adult_filter_off=  True)\n"
      ],
      "execution_count": 4,
      "outputs": [
        {
          "output_type": "stream",
          "text": [
            "[%] Downloading Images to /content/images/pretty lilly\n",
            "\n",
            "\n",
            "[!!]Indexing page: 1\n",
            "\n",
            "[%] Indexed 30 Images on Page 1.\n",
            "\n",
            "===============================================\n",
            "\n",
            "[%] Downloading Image #1 from https://i.pinimg.com/originals/3f/de/9a/3fde9a7bfb31b310165f8c5706f7272a.jpg\n",
            "[%] File Downloaded !\n",
            "\n",
            "[%] Downloading Image #2 from https://i.pinimg.com/originals/2f/82/a3/2f82a353216565a2549b032fc9c8423a.jpg\n",
            "[%] File Downloaded !\n",
            "\n",
            "[%] Downloading Image #3 from https://i.pinimg.com/originals/87/7b/8a/877b8a34da1d66c4453dcb80e495dca0.jpg\n",
            "[%] File Downloaded !\n",
            "\n",
            "[%] Downloading Image #4 from http://4.bp.blogspot.com/-FOaGNLqLw8s/VOTfSRxeOhI/AAAAAAAAOpg/wcpicuaTGWw/s1600/20140423_pps_0157-600x900.jpg\n",
            "[%] File Downloaded !\n",
            "\n",
            "[%] Downloading Image #5 from https://i.pinimg.com/736x/4c/07/6d/4c076dfe40a61dd390656409e07a8d5f--lilly-ketchman-lilliana-ketchman.jpg\n",
            "[%] File Downloaded !\n",
            "\n",
            "[%] Downloading Image #6 from https://icatcare.org/app/uploads/2019/02/Lethal-lilies-1.png\n",
            "[%] File Downloaded !\n",
            "\n",
            "[%] Downloading Image #7 from https://cdn.shopify.com/s/files/1/0279/0663/products/23390_truenavy-sf.jpg?v=1591396974\n",
            "[!] Issue getting: https://cdn.shopify.com/s/files/1/0279/0663/products/23390_truenavy-sf.jpg?v=1591396974\n",
            "[!] Error:: HTTP Error 404: Not Found\n",
            "[%] Downloading Image #7 from https://i.pinimg.com/originals/4d/9b/40/4d9b4024ea30e63ff220657f969ba4d6.jpg\n",
            "[%] File Downloaded !\n",
            "\n",
            "[%] Downloading Image #8 from https://i.pinimg.com/originals/02/71/f1/0271f1d204c464b5bcc23ccb22efb533.jpg\n",
            "[%] File Downloaded !\n",
            "\n",
            "[%] Downloading Image #9 from https://i.pinimg.com/736x/ba/79/3e/ba793eee8139d34d68d916c24998dbbd.jpg\n",
            "[%] File Downloaded !\n",
            "\n",
            "[%] Downloading Image #10 from https://n.nordstrommedia.com/id/sr3/6bf5f7b0-3f17-4e1a-b449-65ffd7a0f1b4.jpeg?crop=pad&amp;pad_color=FFF&amp;format=jpeg&amp;w=780&amp;h=1196\n",
            "[%] File Downloaded !\n",
            "\n",
            "[%] Downloading Image #11 from https://i2.wp.com/dianaelizabethblog.com/wp-content/uploads2/2017/12/lilly-pulitzer-pajamas-christmas-pajama-party-diana-elizabeth-blog_0045.jpg\n",
            "[%] File Downloaded !\n",
            "\n",
            "[%] Downloading Image #12 from https://i.pinimg.com/736x/d3/6b/83/d36b830cc065f5049decf8255f25cddc--evangeline-lilly-beautiful-eyes.jpg\n",
            "[%] File Downloaded !\n",
            "\n",
            "[%] Downloading Image #13 from https://i.pinimg.com/originals/59/ea/47/59ea470426c99a06d9d77e828c2bf940.jpg\n",
            "[%] File Downloaded !\n",
            "\n",
            "[%] Downloading Image #14 from http://1.bp.blogspot.com/-RV2lAah3zos/UchWz9iC8qI/AAAAAAAAFq4/IRBzvtMPWKM/s1600/IMG_3393.jpg\n",
            "[%] File Downloaded !\n",
            "\n",
            "[%] Downloading Image #15 from http://2.bp.blogspot.com/-GtCmSm8kuW4/UchWbx-Z1VI/AAAAAAAAFqI/UHjS0_iE-MM/s1600/IMG_3383.jpg\n",
            "[%] File Downloaded !\n",
            "\n",
            "[%] Downloading Image #16 from https://n.nordstrommedia.com/id/sr3/206d3efd-b59c-48fe-ba0b-ca951cd8504f.jpeg?crop=pad&amp;pad_color=FFF&amp;format=jpeg&amp;w=780&amp;h=1196\n",
            "[%] File Downloaded !\n",
            "\n",
            "[%] Downloading Image #17 from https://townsquare.media/site/189/files/2013/07/pink.jpg?w=1200&amp;h=0&amp;zc=1&amp;s=0&amp;a=t&amp;q=89\n",
            "[%] File Downloaded !\n",
            "\n",
            "[%] Downloading Image #18 from https://www.marthalilyphotography.co.uk/wp-content/uploads/2020/07/DSC_9551-scaled.jpg\n",
            "[%] File Downloaded !\n",
            "\n",
            "[%] Downloading Image #19 from http://2.bp.blogspot.com/-tSuDVPZ7sCM/UchWr4tHR2I/AAAAAAAAFqo/cfC9wvk0ZWI/s1600/IMG_3391.jpg\n",
            "[%] File Downloaded !\n",
            "\n",
            "[%] Downloading Image #20 from https://cdn.shopify.com/s/files/1/0279/0663/products/direct_uploads_2F5796_2FGT25lRLNq-D41oS9tsAvtw_2FScreen_Shot_2020-06-26_at_6.08.56_PM.png?v=1593209548\n",
            "[%] File Downloaded !\n",
            "\n",
            "[%] Downloading Image #21 from https://s-media-cache-ak0.pinimg.com/736x/39/b7/a7/39b7a72acf627f65ba68a33d05944035--hottest-women-beautiful-celebrities.jpg\n",
            "[%] File Downloaded !\n",
            "\n",
            "[%] Downloading Image #22 from https://i.pinimg.com/originals/15/d7/68/15d768fabce81423ff6b40a0359baa78.jpg\n",
            "[%] File Downloaded !\n",
            "\n",
            "[%] Downloading Image #23 from https://i.pinimg.com/736x/02/c8/bc/02c8bcbe0f51c8f420459edce02c3b60--pin-up-girls-love-your.jpg\n",
            "[%] File Downloaded !\n",
            "\n",
            "[%] Downloading Image #24 from https://cdn.shopify.com/s/files/1/0279/0663/products/direct_uploads_2F5796_2FzeaSIdrhgVHm4Etn1AwCZw_2F11529_truenavy_a2-sf.jpg?v=1593209548\n",
            "[%] File Downloaded !\n",
            "\n",
            "[%] Downloading Image #25 from http://2.bp.blogspot.com/-2TKftnXDNG4/UchW7fZZXJI/AAAAAAAAFrA/AOYRkt8mzIA/w1200-h630-p-k-no-nu/IMG_3399.JPG\n",
            "[%] File Downloaded !\n",
            "\n",
            "[%] Downloading Image #26 from https://sexhd.pics/gallery/zishy/lilly-gardner/havoc-babe-thaicutiesmodel/lilly-gardner-2.jpg\n",
            "[%] File Downloaded !\n",
            "\n",
            "[%] Downloading Image #27 from http://4.bp.blogspot.com/-UgY3BYSIadk/UchW75aazzI/AAAAAAAAFrI/nh4t_EdkYNk/s1600/IMG_3394.jpg\n",
            "[%] File Downloaded !\n",
            "\n",
            "[%] Downloading Image #28 from https://i.pinimg.com/originals/e7/55/0e/e7550ebd2eb7f18274939d98c6c76649.jpg\n",
            "[%] File Downloaded !\n",
            "\n",
            "[%] Downloading Image #29 from https://i.pinimg.com/originals/4c/99/dd/4c99dd7e7d3e46b2bf567f9a8a6a3add.jpg\n",
            "[%] File Downloaded !\n",
            "\n",
            "\n",
            "\n",
            "[!!]Indexing page: 2\n",
            "\n",
            "[%] Indexed 35 Images on Page 2.\n",
            "\n",
            "===============================================\n",
            "\n",
            "[%] Downloading Image #30 from https://i.pinimg.com/originals/3f/de/9a/3fde9a7bfb31b310165f8c5706f7272a.jpg\n",
            "[%] File Downloaded !\n",
            "\n",
            "\n",
            "\n",
            "[%] Done. Downloaded 30 images.\n",
            "===============================================\n",
            "\n",
            "Please show your support here\n",
            "https://www.buymeacoffee.com/gurugaurav\n",
            "\n",
            "===============================================\n",
            "\n",
            "time: 11.4 s (started: 2021-06-16 14:51:14 +00:00)\n"
          ],
          "name": "stdout"
        }
      ]
    },
    {
      "cell_type": "code",
      "metadata": {
        "colab": {
          "base_uri": "https://localhost:8080/"
        },
        "id": "2E-tZIHoISfS",
        "outputId": "7fee98c0-1a1a-42d7-91e1-efc2cc15a449"
      },
      "source": [
        "downloader.download(\"roman clock\",limit =30,output_dir='images',adult_filter_off=  True)"
      ],
      "execution_count": 5,
      "outputs": [
        {
          "output_type": "stream",
          "text": [
            "[%] Downloading Images to /content/images/roman clock\n",
            "\n",
            "\n",
            "[!!]Indexing page: 1\n",
            "\n",
            "[%] Indexed 30 Images on Page 1.\n",
            "\n",
            "===============================================\n",
            "\n",
            "[%] Downloading Image #1 from http://img1.etsystatic.com/000/0/5623779/il_570xN.157849405.jpg\n",
            "[%] File Downloaded !\n",
            "\n",
            "[%] Downloading Image #2 from https://media.istockphoto.com/photos/very-old-analog-clock-with-roman-numerals-picture-id147244799?k=6&amp;m=147244799&amp;s=612x612&amp;w=0&amp;h=2ooCqT6GbYGnxM6J_UqluDGwYuP-_B94d5lurd1NQA0=\n",
            "[%] File Downloaded !\n",
            "\n",
            "[%] Downloading Image #3 from http://cdn.shopify.com/s/files/1/0217/9389/8596/products/chrome_roman_white_pic_1__70551_1200x630.jpg?v=1549562321\n",
            "[%] File Downloaded !\n",
            "\n",
            "[%] Downloading Image #4 from https://cdn.shopify.com/s/files/1/0018/2154/0398/products/Black_Station_Wall_Clock_-_Roman_Numeral_-_Classic_Large_-_Newgate_Battersby_CLJ71K_skew_1800x1800.jpg?v=1569323375\n",
            "[%] File Downloaded !\n",
            "\n",
            "[%] Downloading Image #5 from https://cdn.shopify.com/s/files/1/0018/2154/0398/products/Silver_Roman_Numeral_Wall_Clock_-_Jones_Clocks_Starlight_JSTAR707BRS_1800x1800.jpg?v=1582035620\n",
            "[%] File Downloaded !\n",
            "\n",
            "[%] Downloading Image #6 from https://cdn.shopify.com/s/files/1/0018/2154/0398/products/Decorative_Wall_Clock_Roman_numeral_-_Jones_Clocks_Venetian_JVEN319K_1800x1800.jpg?v=1580481201\n",
            "[%] File Downloaded !\n",
            "\n",
            "[%] Downloading Image #7 from https://i.ebayimg.com/images/g/m~sAAOSwplBdbsVt/s-l640.jpg\n",
            "[%] File Downloaded !\n",
            "\n",
            "[%] Downloading Image #8 from https://i.ebayimg.com/images/g/C0AAAOSwhiJdR1U~/s-l400.jpg\n",
            "[%] File Downloaded !\n",
            "\n",
            "[%] Downloading Image #9 from https://i.ebayimg.com/images/g/lF0AAOSwiFtbhndz/s-l400.jpg\n",
            "[%] File Downloaded !\n",
            "\n",
            "[%] Downloading Image #10 from https://s3-eu-west-1.amazonaws.com/images.linnlive.com/a77525e6f14c4be2333db4a2e24bac6c/ae622a57-c1c4-4662-8970-1a0e42bce68b.jpg\n",
            "[%] File Downloaded !\n",
            "\n",
            "[%] Downloading Image #11 from https://s3-eu-west-1.amazonaws.com/images.linnlive.com/a77525e6f14c4be2333db4a2e24bac6c/3c9e5ea3-2e66-43f5-b70e-9a7895bc15df.jpg\n",
            "[%] File Downloaded !\n",
            "\n",
            "[%] Downloading Image #12 from https://i.ebayimg.com/images/g/TXMAAOSwQjheDhDB/s-l400.jpg\n",
            "[%] File Downloaded !\n",
            "\n",
            "[%] Downloading Image #13 from https://cdn.shopify.com/s/files/1/0018/2154/0398/products/Decorative_Roman_Numeral_Wall_Clock_Cream_Light_Grey_-_Jones_Clocks_Opera_House_JOPER1LGY_9715d373-4aec-456d-8a0c-ff21558ee8b1_1800x1800.jpg?v=1572861084\n",
            "[%] File Downloaded !\n",
            "\n",
            "[%] Downloading Image #14 from https://cdn.shopify.com/s/files/1/0018/2154/0398/products/Silver_Roman_Numeral_Wall_Clock_-_Jones_Clocks_Starlight_JSTAR707BRS_-_skew_1800x1800.jpg?v=1582035641\n",
            "[%] File Downloaded !\n",
            "\n",
            "[%] Downloading Image #15 from https://s3-eu-west-1.amazonaws.com/images.linnlive.com/a77525e6f14c4be2333db4a2e24bac6c/4404dca6-d9ed-4ce6-a17a-d0574cefed86.jpg\n",
            "[%] File Downloaded !\n",
            "\n",
            "[%] Downloading Image #16 from https://i.ebayimg.com/images/g/pCkAAOSw6ZRdI1iJ/s-l400.jpg\n",
            "[%] File Downloaded !\n",
            "\n",
            "[%] Downloading Image #17 from https://i.ebayimg.com/images/g/1NsAAOSwZEdeyS8A/s-l400.jpg\n",
            "[%] File Downloaded !\n",
            "\n",
            "[%] Downloading Image #18 from https://i.ebayimg.com/images/g/-T0AAOSwfDtdAmPK/s-l400.jpg\n",
            "[%] File Downloaded !\n",
            "\n",
            "[%] Downloading Image #19 from https://i.ebayimg.com/images/g/aL0AAOSwDP1b3Gbl/s-l400.jpg\n",
            "[%] File Downloaded !\n",
            "\n",
            "[%] Downloading Image #20 from https://i.ebayimg.com/images/i/282063388349-0-1/s-l1000.jpg\n",
            "[%] File Downloaded !\n",
            "\n",
            "[%] Downloading Image #21 from https://i.ebayimg.com/images/i/321455970603-0-1/s-l1000.jpg\n",
            "[%] File Downloaded !\n",
            "\n",
            "[%] Downloading Image #22 from https://i.ebayimg.com/images/g/lC0AAOSwHgdatBBw/s-l400.jpg\n",
            "[%] File Downloaded !\n",
            "\n",
            "[%] Downloading Image #23 from https://i.ebayimg.com/images/i/361545265768-0-1/s-l1000.jpg\n",
            "[%] File Downloaded !\n",
            "\n",
            "[%] Downloading Image #24 from https://i.ebayimg.com/images/g/logAAOSwHfZdDyDD/s-l400.jpg\n",
            "[%] File Downloaded !\n",
            "\n",
            "[%] Downloading Image #25 from http://cdn.shopify.com/s/files/1/0217/9389/8596/products/triple_oak_tide_roman_hydrom_2__01051_1200x630.jpg?v=1549561966\n",
            "[%] File Downloaded !\n",
            "\n",
            "[%] Downloading Image #26 from https://i.ebayimg.com/images/g/wFYAAOSwfV5dAmlL/s-l400.jpg\n",
            "[%] File Downloaded !\n",
            "\n",
            "[%] Downloading Image #27 from http://img1.etsystatic.com/000/0/5623779/il_570xN.179469317.jpg\n",
            "[%] File Downloaded !\n",
            "\n",
            "[%] Downloading Image #28 from https://i.ebayimg.com/images/g/4nkAAOSw7FFeS9sP/s-l400.jpg\n",
            "[%] File Downloaded !\n",
            "\n",
            "[%] Downloading Image #29 from https://images2.minutemediacdn.com/image/upload/c_fill,g_auto,h_1248,w_2220/v1554929697/shape/mentalfloss/istock-931534290.jpg?itok=efYJ0nBN\n",
            "[%] File Downloaded !\n",
            "\n",
            "[%] Downloading Image #30 from https://i.ebayimg.com/images/g/tmMAAOSwPjZdmdlj/s-l400.jpg\n",
            "[%] File Downloaded !\n",
            "\n",
            "\n",
            "\n",
            "[%] Done. Downloaded 30 images.\n",
            "===============================================\n",
            "\n",
            "Please show your support here\n",
            "https://www.buymeacoffee.com/gurugaurav\n",
            "\n",
            "===============================================\n",
            "\n",
            "time: 6.14 s (started: 2021-06-16 14:51:33 +00:00)\n"
          ],
          "name": "stdout"
        }
      ]
    },
    {
      "cell_type": "code",
      "metadata": {
        "colab": {
          "base_uri": "https://localhost:8080/"
        },
        "id": "l3cS-M8oQ-uc",
        "outputId": "d1a2d5c2-702b-4b13-f35d-e7662f5e6f1f"
      },
      "source": [
        "downloader.download(\"cake\",limit =30,output_dir='images',adult_filter_off=  True)\n"
      ],
      "execution_count": 6,
      "outputs": [
        {
          "output_type": "stream",
          "text": [
            "[%] Downloading Images to /content/images/cake\n",
            "\n",
            "\n",
            "[!!]Indexing page: 1\n",
            "\n",
            "[%] Indexed 30 Images on Page 1.\n",
            "\n",
            "===============================================\n",
            "\n",
            "[%] Downloading Image #1 from https://i.pinimg.com/originals/4e/19/a7/4e19a75b8936180c735ec02de514d22a.jpg\n",
            "[%] File Downloaded !\n",
            "\n",
            "[%] Downloading Image #2 from https://i.pinimg.com/736x/2f/f6/db/2ff6db135788c92469b05f22b8fa21d5.jpg\n",
            "[%] File Downloaded !\n",
            "\n",
            "[%] Downloading Image #3 from https://i.pinimg.com/originals/4d/e5/d6/4de5d6fc23b11097127a441555ba19a3.jpg\n",
            "[%] File Downloaded !\n",
            "\n",
            "[%] Downloading Image #4 from https://i.pinimg.com/736x/a7/7c/18/a77c18cf1afe3ba843f0827d6763a6c8--true-blood-cake-tier-cake.jpg\n",
            "[%] File Downloaded !\n",
            "\n",
            "[%] Downloading Image #5 from https://i.pinimg.com/originals/dc/c2/65/dcc26563055c7e6f9d410829c9f6c9d2.jpg\n",
            "[%] File Downloaded !\n",
            "\n",
            "[%] Downloading Image #6 from https://www.hi5mart.com/image/cache/catalog/cakes and gifts/true-soulmate-12052017-A-750x750.jpg\n",
            "[!] Issue getting: https://www.hi5mart.com/image/cache/catalog/cakes and gifts/true-soulmate-12052017-A-750x750.jpg\n",
            "[!] Error:: URL can't contain control characters. '/image/cache/catalog/cakes and gifts/true-soulmate-12052017-A-750x750.jpg' (found at least ' ')\n",
            "[%] Downloading Image #6 from https://i.pinimg.com/originals/8b/1a/1f/8b1a1f46ccc1926515718a8ac363cdb6.jpg\n",
            "[%] File Downloaded !\n",
            "\n",
            "[%] Downloading Image #7 from https://i.pinimg.com/originals/63/b3/e9/63b3e9e8c0cc3b14277a6e0abc842afa.jpg\n",
            "[%] File Downloaded !\n",
            "\n",
            "[%] Downloading Image #8 from https://i.pinimg.com/originals/b6/9f/17/b69f17affc2ecd92d967215c94ccbc87.jpg\n",
            "[%] File Downloaded !\n",
            "\n",
            "[%] Downloading Image #9 from https://i.pinimg.com/originals/59/3d/7a/593d7a69f706fe527e50d3a6cb3d3bd0.jpg\n",
            "[%] File Downloaded !\n",
            "\n",
            "[%] Downloading Image #10 from http://cakeinacupny.com/wp-content/uploads/2013/01/True-Religion-0077-2-640x800.jpg\n",
            "[%] File Downloaded !\n",
            "\n",
            "[%] Downloading Image #11 from https://pbs.twimg.com/media/DTWxKKVU0AA44gY.jpg:large\n",
            "[%] File Downloaded !\n",
            "\n",
            "[%] Downloading Image #12 from https://i.pinimg.com/originals/fa/ee/ae/faeeae2ae976080e1cac001d47c919a6.jpg\n",
            "[%] File Downloaded !\n",
            "\n",
            "[%] Downloading Image #13 from https://i.pinimg.com/originals/7d/76/5f/7d765f10d3278d5fd7b883b6c802a25d.jpg\n",
            "[%] File Downloaded !\n",
            "\n",
            "[%] Downloading Image #14 from https://i.pinimg.com/originals/46/66/0f/46660f243254df3d53225e6532594f05.jpg\n",
            "[%] File Downloaded !\n",
            "\n",
            "[%] Downloading Image #15 from https://cdn.shopify.com/s/files/1/0058/3286/7897/products/True_And_The_Rainbow_Kingdom_Round_Mockup_2000x.jpg?v=1559499259\n",
            "[%] File Downloaded !\n",
            "\n",
            "[%] Downloading Image #16 from https://i.pinimg.com/originals/34/3d/c4/343dc4dd15ededdca65c603fae9f0304.jpg\n",
            "[%] File Downloaded !\n",
            "\n",
            "[%] Downloading Image #17 from https://i.pinimg.com/originals/e4/75/ff/e475ff4f006b64c5b1ae324dbe1fc8d5.jpg\n",
            "[%] File Downloaded !\n",
            "\n",
            "[%] Downloading Image #18 from https://i.pinimg.com/736x/5f/4a/fd/5f4afd2c6c607476984738207fef79e4.jpg\n",
            "[%] File Downloaded !\n",
            "\n",
            "[%] Downloading Image #19 from https://i.pinimg.com/originals/12/48/28/1248285556d61560219fa17f4be42ce4.jpg\n",
            "[%] File Downloaded !\n",
            "\n",
            "[%] Downloading Image #20 from https://www.cakeology.net/media/catalog/product/d/s/dsc00909_2_.jpg\n",
            "[%] File Downloaded !\n",
            "\n",
            "[%] Downloading Image #21 from https://i.pinimg.com/originals/c6/15/1a/c6151aed8c7b6c3816b37bb370d92ffc.jpg\n",
            "[%] File Downloaded !\n",
            "\n",
            "[%] Downloading Image #22 from https://i.pinimg.com/originals/08/83/d8/0883d801359f89130f1b886fa85518f8.jpg\n",
            "[%] File Downloaded !\n",
            "\n",
            "[%] Downloading Image #23 from https://i.pinimg.com/originals/ad/ce/f9/adcef923dcd9c044e7c753f141632af8.jpg\n",
            "[%] File Downloaded !\n",
            "\n",
            "[%] Downloading Image #24 from https://i.pinimg.com/originals/42/f3/5d/42f35d1ca24b31b243b47659185c3ae1.jpg\n",
            "[%] File Downloaded !\n",
            "\n",
            "[%] Downloading Image #25 from https://i.pinimg.com/736x/20/a9/44/20a944b785d438c3839af4387632511f.jpg\n",
            "[%] File Downloaded !\n",
            "\n",
            "[%] Downloading Image #26 from https://i.ytimg.com/vi/tPOj-b6qLIg/maxresdefault.jpg\n",
            "[%] File Downloaded !\n",
            "\n",
            "[%] Downloading Image #27 from https://lh6.googleusercontent.com/proxy/sKCC_hoqMdDWtBHVWNIYNAfXFyJC3ty52OitcNIdA5ex6g2ot_a3u1ulYGK91rkVYcpOqz8cOUY7lSK_vpFb8I10SWoLNpHq-OmvDHuSV9vQHijnGOU9gHpzel5-Ixxy=w1200-h630-p-k-no-nu\n",
            "[%] File Downloaded !\n",
            "\n",
            "[%] Downloading Image #28 from https://i.pinimg.com/originals/79/ce/08/79ce08c78716e4f6a3137b11490aba5c.jpg\n",
            "[%] File Downloaded !\n",
            "\n",
            "[%] Downloading Image #29 from https://thumbs1.ebaystatic.com/d/l225/m/m2qVg_zMM6oa4QYxMuTEo0Q.jpg\n",
            "[%] File Downloaded !\n",
            "\n",
            "\n",
            "\n",
            "[!!]Indexing page: 2\n",
            "\n",
            "[%] Indexed 35 Images on Page 2.\n",
            "\n",
            "===============================================\n",
            "\n",
            "[%] Downloading Image #30 from https://i.pinimg.com/originals/4e/19/a7/4e19a75b8936180c735ec02de514d22a.jpg\n",
            "[%] File Downloaded !\n",
            "\n",
            "\n",
            "\n",
            "[%] Done. Downloaded 30 images.\n",
            "===============================================\n",
            "\n",
            "Please show your support here\n",
            "https://www.buymeacoffee.com/gurugaurav\n",
            "\n",
            "===============================================\n",
            "\n",
            "time: 11.4 s (started: 2021-06-16 14:51:39 +00:00)\n"
          ],
          "name": "stdout"
        }
      ]
    },
    {
      "cell_type": "code",
      "metadata": {
        "colab": {
          "base_uri": "https://localhost:8080/"
        },
        "id": "jttlafN2KlSP",
        "outputId": "f242c2db-afc4-480b-e9e5-ae97bcaefc93"
      },
      "source": [
        "#preprocessing\n",
        "#1.resize\n",
        "#2.flatten\n",
        "\n",
        "import os \n",
        "import matplotlib.pyplot as plt \n",
        "import numpy as np\n",
        "from skimage. io import imread\n",
        "from skimage.transform import resize\n",
        "target =[]\n",
        "images=[]\n",
        "flat_data=[]\n",
        "DATADIR= '/content/images'\n",
        "CATEGORIES= ['pretty lilly','roman clock','cake']\n",
        "\n",
        "for category in CATEGORIES:\n",
        "  class_num = CATEGORIES.index(category)\n",
        "  path= os.path.join(DATADIR,category)\n",
        "  for img in os.listdir(path):\n",
        "    img_array=imread(os.path.join(path,img))\n",
        "    #print(img_array.shape)\n",
        "    #plt.imshow(img_array)\n",
        "    img_resized=resize(img_array,(150,150,3))\n",
        "    flat_data.append(img_resized.flatten())\n",
        "    \n",
        "    images.append(img_resized)\n",
        "    target.append(class_num)\n",
        "\n",
        "flat_data = np.array(flat_data)\n",
        "target= np.array(target)\n",
        "images= np.array(images)\n",
        "    "
      ],
      "execution_count": 7,
      "outputs": [
        {
          "output_type": "stream",
          "text": [
            "time: 39.1 s (started: 2021-06-16 14:52:18 +00:00)\n"
          ],
          "name": "stdout"
        }
      ]
    },
    {
      "cell_type": "code",
      "metadata": {
        "id": "nfVsb4AkU-4a",
        "colab": {
          "base_uri": "https://localhost:8080/"
        },
        "outputId": "6fa7dd6b-5aa1-49ac-9a51-24c231705379"
      },
      "source": [
        "flat_data[0]\n"
      ],
      "execution_count": 8,
      "outputs": [
        {
          "output_type": "execute_result",
          "data": {
            "text/plain": [
              "array([0.48566013, 0.39938562, 0.34386928, ..., 0.03529412, 0.03529412,\n",
              "       0.04313725])"
            ]
          },
          "metadata": {
            "tags": []
          },
          "execution_count": 8
        },
        {
          "output_type": "stream",
          "text": [
            "time: 5.62 ms (started: 2021-06-16 14:53:51 +00:00)\n"
          ],
          "name": "stdout"
        }
      ]
    },
    {
      "cell_type": "code",
      "metadata": {
        "colab": {
          "base_uri": "https://localhost:8080/"
        },
        "id": "mDNQpWd_xGK5",
        "outputId": "1fcc6ec9-1586-4b2e-cc69-89270d271e64"
      },
      "source": [
        "target\n"
      ],
      "execution_count": 9,
      "outputs": [
        {
          "output_type": "execute_result",
          "data": {
            "text/plain": [
              "array([0, 0, 0, 0, 0, 0, 0, 0, 0, 0, 0, 0, 0, 0, 0, 0, 0, 0, 0, 0, 0, 0,\n",
              "       0, 0, 0, 0, 0, 0, 0, 0, 1, 1, 1, 1, 1, 1, 1, 1, 1, 1, 1, 1, 1, 1,\n",
              "       1, 1, 1, 1, 1, 1, 1, 1, 1, 1, 1, 1, 1, 1, 1, 1, 2, 2, 2, 2, 2, 2,\n",
              "       2, 2, 2, 2, 2, 2, 2, 2, 2, 2, 2, 2, 2, 2, 2, 2, 2, 2, 2, 2, 2, 2,\n",
              "       2, 2])"
            ]
          },
          "metadata": {
            "tags": []
          },
          "execution_count": 9
        },
        {
          "output_type": "stream",
          "text": [
            "time: 2.15 ms (started: 2021-06-16 14:53:55 +00:00)\n"
          ],
          "name": "stdout"
        }
      ]
    },
    {
      "cell_type": "code",
      "metadata": {
        "colab": {
          "base_uri": "https://localhost:8080/",
          "height": 298
        },
        "id": "IwpWql9I2h4C",
        "outputId": "754d0491-188a-4ce1-8201-90e9c14089e6"
      },
      "source": [
        "unique,count=np.unique(target,return_counts= True)\n",
        "plt.bar(CATEGORIES,count)"
      ],
      "execution_count": 10,
      "outputs": [
        {
          "output_type": "execute_result",
          "data": {
            "text/plain": [
              "<BarContainer object of 3 artists>"
            ]
          },
          "metadata": {
            "tags": []
          },
          "execution_count": 10
        },
        {
          "output_type": "display_data",
          "data": {
            "image/png": "[encoded data removed]",
            "text/plain": [
              "<Figure size 432x288 with 1 Axes>"
            ]
          },
          "metadata": {
            "tags": [],
            "needs_background": "light"
          }
        },
        {
          "output_type": "stream",
          "text": [
            "time: 135 ms (started: 2021-06-16 14:53:59 +00:00)\n"
          ],
          "name": "stdout"
        }
      ]
    },
    {
      "cell_type": "code",
      "metadata": {
        "colab": {
          "base_uri": "https://localhost:8080/"
        },
        "id": "_kSlgAG4247Y",
        "outputId": "38c003ea-707a-42bd-938f-2db47922ad95"
      },
      "source": [
        "#split data into training and testing\n",
        "from sklearn.model_selection import train_test_split\n",
        "x_train,x_test,y_train,y_test = train_test_split( flat_data,target,\n",
        "                              test_size=0.3,random_state=109)\n",
        "print(y_train)"
      ],
      "execution_count": 11,
      "outputs": [
        {
          "output_type": "stream",
          "text": [
            "[1 0 0 1 1 2 1 0 2 0 0 1 1 2 0 2 2 0 0 2 2 2 1 1 0 0 1 0 1 0 2 2 2 2 2 0 1\n",
            " 1 2 2 0 2 2 0 1 2 1 1 2 0 2 0 0 1 1 1 2 0 1 2 0 0 0]\n",
            "time: 190 ms (started: 2021-06-16 14:54:04 +00:00)\n"
          ],
          "name": "stdout"
        }
      ]
    },
    {
      "cell_type": "code",
      "metadata": {
        "id": "9qFspRS15pqi",
        "colab": {
          "base_uri": "https://localhost:8080/"
        },
        "outputId": "7ddf2396-8b6b-49a8-dc17-6f4b965716f7"
      },
      "source": [
        "from sklearn.model_selection import GridSearchCV\n",
        "from sklearn import svm\n",
        "param_grid = [\n",
        "              {'C':[1,10,100,1000],'kernel':['linear']},\n",
        "              {'C':[1,10,100,1000], 'gamma':[0.001,0.0001],'kernel':['rbf']}\n",
        "]\n",
        "svc= svm.SVC(probability=True)\n",
        "clf = GridSearchCV(svc,param_grid)\n",
        "clf.fit(x_train,y_train)"
      ],
      "execution_count": 12,
      "outputs": [
        {
          "output_type": "execute_result",
          "data": {
            "text/plain": [
              "GridSearchCV(cv=None, error_score=nan,\n",
              "             estimator=SVC(C=1.0, break_ties=False, cache_size=200,\n",
              "                           class_weight=None, coef0=0.0,\n",
              "                           decision_function_shape='ovr', degree=3,\n",
              "                           gamma='scale', kernel='rbf', max_iter=-1,\n",
              "                           probability=True, random_state=None, shrinking=True,\n",
              "                           tol=0.001, verbose=False),\n",
              "             iid='deprecated', n_jobs=None,\n",
              "             param_grid=[{'C': [1, 10, 100, 1000], 'kernel': ['linear']},\n",
              "                         {'C': [1, 10, 100, 1000], 'gamma': [0.001, 0.0001],\n",
              "                          'kernel': ['rbf']}],\n",
              "             pre_dispatch='2*n_jobs', refit=True, return_train_score=False,\n",
              "             scoring=None, verbose=0)"
            ]
          },
          "metadata": {
            "tags": []
          },
          "execution_count": 12
        },
        {
          "output_type": "stream",
          "text": [
            "time: 1min 20s (started: 2021-06-16 14:54:07 +00:00)\n"
          ],
          "name": "stdout"
        }
      ]
    },
    {
      "cell_type": "code",
      "metadata": {
        "colab": {
          "base_uri": "https://localhost:8080/"
        },
        "id": "bhLFTMFExTLu",
        "outputId": "d1231b8c-d6f5-421c-bb67-dd686272a528"
      },
      "source": [
        "y_pred= clf.predict(x_test)\n",
        "y_pred"
      ],
      "execution_count": 13,
      "outputs": [
        {
          "output_type": "execute_result",
          "data": {
            "text/plain": [
              "array([1, 2, 1, 2, 2, 2, 2, 1, 1, 0, 1, 2, 0, 2, 2, 0, 2, 1, 0, 1, 2, 2,\n",
              "       2, 0, 2, 1, 1])"
            ]
          },
          "metadata": {
            "tags": []
          },
          "execution_count": 13
        },
        {
          "output_type": "stream",
          "text": [
            "time: 129 ms (started: 2021-06-16 14:55:28 +00:00)\n"
          ],
          "name": "stdout"
        }
      ]
    },
    {
      "cell_type": "code",
      "metadata": {
        "colab": {
          "base_uri": "https://localhost:8080/"
        },
        "id": "fW10OoPR3ABf",
        "outputId": "8f32f99d-294f-422e-be96-e393f4b76eb8"
      },
      "source": [
        "y_test"
      ],
      "execution_count": 14,
      "outputs": [
        {
          "output_type": "execute_result",
          "data": {
            "text/plain": [
              "array([1, 0, 1, 2, 2, 1, 0, 1, 1, 0, 1, 0, 1, 2, 2, 1, 2, 1, 0, 1, 2, 2,\n",
              "       2, 0, 0, 0, 1])"
            ]
          },
          "metadata": {
            "tags": []
          },
          "execution_count": 14
        },
        {
          "output_type": "stream",
          "text": [
            "time: 5.81 ms (started: 2021-06-16 14:55:28 +00:00)\n"
          ],
          "name": "stdout"
        }
      ]
    },
    {
      "cell_type": "code",
      "metadata": {
        "colab": {
          "base_uri": "https://localhost:8080/"
        },
        "id": "rKivUcxD_PgL",
        "outputId": "f6b93df6-ed52-468f-8aa2-ea3f60bd452d"
      },
      "source": [
        "from sklearn.metrics import accuracy_score,confusion_matrix"
      ],
      "execution_count": 15,
      "outputs": [
        {
          "output_type": "stream",
          "text": [
            "time: 1.73 ms (started: 2021-06-16 14:55:28 +00:00)\n"
          ],
          "name": "stdout"
        }
      ]
    },
    {
      "cell_type": "code",
      "metadata": {
        "colab": {
          "base_uri": "https://localhost:8080/"
        },
        "id": "qdH-YUQR3EC3",
        "outputId": "b5db92cd-1fbd-4555-a13b-51fa7efe6e3f"
      },
      "source": [
        "accuracy_score(y_pred,y_test)"
      ],
      "execution_count": 16,
      "outputs": [
        {
          "output_type": "execute_result",
          "data": {
            "text/plain": [
              "0.7037037037037037"
            ]
          },
          "metadata": {
            "tags": []
          },
          "execution_count": 16
        },
        {
          "output_type": "stream",
          "text": [
            "time: 4.63 ms (started: 2021-06-16 14:55:28 +00:00)\n"
          ],
          "name": "stdout"
        }
      ]
    },
    {
      "cell_type": "code",
      "metadata": {
        "colab": {
          "base_uri": "https://localhost:8080/"
        },
        "id": "I3vAVeXm-KaN",
        "outputId": "5174e9e7-e364-45e6-fb99-8162b80b218f"
      },
      "source": [
        "confusion_matrix(y_pred,y_test)"
      ],
      "execution_count": 17,
      "outputs": [
        {
          "output_type": "execute_result",
          "data": {
            "text/plain": [
              "array([[3, 2, 0],\n",
              "       [1, 8, 0],\n",
              "       [4, 1, 8]])"
            ]
          },
          "metadata": {
            "tags": []
          },
          "execution_count": 17
        },
        {
          "output_type": "stream",
          "text": [
            "time: 6.23 ms (started: 2021-06-16 14:55:28 +00:00)\n"
          ],
          "name": "stdout"
        }
      ]
    },
    {
      "cell_type": "code",
      "metadata": {
        "colab": {
          "base_uri": "https://localhost:8080/"
        },
        "id": "zxkNqZmVCEZ-",
        "outputId": "0bce93d0-b037-47a2-9946-61d7cec3dd3c"
      },
      "source": [
        "import pickle\n",
        "pickle.dump(clf,open('img_model.p','wb'))"
      ],
      "execution_count": 18,
      "outputs": [
        {
          "output_type": "stream",
          "text": [
            "time: 33.2 ms (started: 2021-06-16 14:55:28 +00:00)\n"
          ],
          "name": "stdout"
        }
      ]
    },
    {
      "cell_type": "code",
      "metadata": {
        "colab": {
          "base_uri": "https://localhost:8080/"
        },
        "id": "SS0JXKwZD93c",
        "outputId": "0d2792ee-873a-47ef-b64e-d9d6f94d38d1"
      },
      "source": [
        "model= pickle.load(open('img_model.p','rb'))"
      ],
      "execution_count": 19,
      "outputs": [
        {
          "output_type": "stream",
          "text": [
            "time: 15.6 ms (started: 2021-06-16 14:55:42 +00:00)\n"
          ],
          "name": "stdout"
        }
      ]
    },
    {
      "cell_type": "code",
      "metadata": {
        "colab": {
          "base_uri": "https://localhost:8080/",
          "height": 336
        },
        "id": "0zx8bw7vEt46",
        "outputId": "1930f87f-72d5-410b-d0b9-a24eb7023601"
      },
      "source": [
        "#testing a brand new image\n",
        "flat_data=[]\n",
        "url = input('Enter your URL')\n",
        "img = imread(url)\n",
        "img_resized = resize(img,(150,150,3))\n",
        "flat_data.append(img_resized.flatten())\n",
        "flat_data=np.array(flat_data)\n",
        "print(img.shape)\n",
        "plt.imshow(img_resized)\n",
        "y_out = model.predict(flat_data)\n",
        "y_out= CATEGORIES[y_out[0]]\n",
        "print(f'PREDICTED OUTPUT:{y_out}')"
      ],
      "execution_count": 21,
      "outputs": [
        {
          "output_type": "stream",
          "text": [
            "Enter your URLhttps://encrypted-tbn0.gstatic.com/images?q=tbn:ANd9GcRcLxMWGwccI_-XRQxmd8roTTtjZ7K9iJlpew&usqp=CAU\n",
            "(183, 275, 3)\n",
            "PREDICTED OUTPUT:cake\n"
          ],
          "name": "stdout"
        },
        {
          "output_type": "display_data",
          "data": {
            "image/png": "[encoded data removed]",
            "text/plain": [
              "<Figure size 432x288 with 1 Axes>"
            ]
          },
          "metadata": {
            "tags": [],
            "needs_background": "light"
          }
        },
        {
          "output_type": "stream",
          "text": [
            "time: 5.72 s (started: 2021-06-16 15:02:19 +00:00)\n"
          ],
          "name": "stdout"
        }
      ]
    },
    {
      "cell_type": "code",
      "metadata": {
        "id": "fC9APzbKIgLD"
      },
      "source": [
        ""
      ],
      "execution_count": null,
      "outputs": []
    }
  ]
}